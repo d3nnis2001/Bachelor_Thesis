{
 "cells": [
  {
   "cell_type": "code",
   "execution_count": 1,
   "metadata": {},
   "outputs": [],
   "source": [
    "from model.dataloader import NinaProDatasetLoader, NearlabDatasetLoader\n",
    "from model.nina_helper import *\n",
    "import torch\n",
    "import pandas as pd\n",
    "from sklearn.utils import shuffle\n",
    "from scipy import signal\n",
    "import os\n",
    "import matplotlib.pyplot as plt\n",
    "from model.utils import list_files, take_n_shots, take_n_samples_from_every_class\n",
    "from model.model import CNet2D\n",
    "\n",
    "import warnings\n",
    "\n",
    "warnings.filterwarnings(\"ignore\")"
   ]
  },
  {
   "cell_type": "code",
   "execution_count": 2,
   "metadata": {},
   "outputs": [],
   "source": [
    "path_nearlab = \"E:/Dennis_Bachelor/Bachelor_Thesis-main/src/data/nearlab/8features/person\"\n",
    "path_ninapro = \"E:/Dennis_Bachelor/Bachelor_Thesis-main/src/data/ninapro\"\n",
    "path_nearlab_combo = \"E:/Dennis_Bachelor/Bachelor_Thesis-main/src/data/nearlab/combo/person\"\n",
    "results_basic = \"E:/Dennis_Bachelor/Bachelor_Thesis-main/src/results/basicEval\"\n",
    "results_ninapro = \"E:/Dennis_Bachelor/Bachelor_Thesis-main/src/results/ninapro_basic\"\n",
    "results_nearlab = \"E:/Dennis_Bachelor/Bachelor_Thesis-main/src/results/nearlab\"\n",
    "results_prototype_num = \"E:/Dennis_Bachelor/Bachelor_Thesis-main/src/results/prototype_num\"\n",
    "results_prototype_num2 = \"E:/Dennis_Bachelor/Bachelor_Thesis-main/src/results/prototype_num2\"\n",
    "results_fsl = \"E:/Dennis_Bachelor/Bachelor_Thesis-main/src/results/few-shot\"\n",
    "results_fsl_ninapro = \"E:/Dennis_Bachelor/Bachelor_Thesis-main/src/results/few-shot-ninapro\"\n",
    "results_subject = \"E:/Dennis_Bachelor/Bachelor_Thesis-main/src/results/subject\"\n",
    "versions = [\"GLVQ\", \"Softmax\", \"GMLVQ\"]\n",
    "prototype_version = [\"GLVQ\", \"GMLVQ\"]\n",
    "n_shots = [2, 5, 10]\n",
    "prototypes_per_class = [1,4,8,16]"
   ]
  },
  {
   "cell_type": "markdown",
   "metadata": {},
   "source": [
    "# Nearlab\n",
    "---"
   ]
  },
  {
   "cell_type": "markdown",
   "metadata": {},
   "source": [
    "# Load in all Subject Data"
   ]
  },
  {
   "cell_type": "code",
   "execution_count": 3,
   "metadata": {},
   "outputs": [],
   "source": [
    "# Runs all models with all subjects expect one as training and one as testing\n",
    "def run_model_all_subjects():\n",
    "    for person in range(1, 12):\n",
    "        test_paths = list_files(path_nearlab + f\"{person}\", \"csv\")\n",
    "        train_paths = []\n",
    "        for person2 in range(1, 12):\n",
    "            if person2 != person:\n",
    "                train_files = list_files(path_nearlab + f\"{person2}\", \"csv\")\n",
    "                train_paths.extend(train_files)\n",
    "        \n",
    "        data = NearlabDatasetLoader(train_paths, test_paths)\n",
    "        X_train, y_train, X_val, y_val, X_test, y_test = data.load_data()\n",
    "\n",
    "        for version in versions:\n",
    "            # Recommended Settings\n",
    "            current_model = CNet2D(version=version, epochs=25, batch_size=128, learning_rate=0.0002)\n",
    "            history = current_model.fit(X_train, y_train, 8, X_val, y_val)\n",
    "            # Add accuracy of model to history\n",
    "            evaluation = current_model.evaluate_model(X_test, y_test)\n",
    "            history[\"accuracy\"] = str(evaluation[\"accuracy\"])\n",
    "            # Checks if folder exists, if not creates it\n",
    "            if not os.path.exists(results_subject + f\"/person{person}/\"):\n",
    "                os.makedirs(results_subject + f\"/person{person}/\")\n",
    "            # Save model\n",
    "            current_model.save_model_state(results_subject + f\"/person{person}/model_{version}_Subject_{person}\")\n",
    "            # Save history\n",
    "            current_model.save_history_csv(history, results_subject + f\"/person{person}/history_{version}_Subject_{person}\")\n"
   ]
  },
  {
   "cell_type": "markdown",
   "metadata": {},
   "source": [
    "# Num Prototypes"
   ]
  },
  {
   "cell_type": "code",
   "execution_count": 4,
   "metadata": {},
   "outputs": [],
   "source": [
    "# Runs all models with all hand-orientation combinations on each subject where 2 files are used for training and 1 for testing\n",
    "def run_model_all_orientations_num_prototypes(prototypes_per_class):\n",
    "    for person in range(1, 4):\n",
    "        all_files = list_files(path_nearlab + f\"{person}\", \"csv\")\n",
    "        data = NearlabDatasetLoader(all_files[:2], all_files[2:])\n",
    "        X_train, y_train, X_val, y_val, X_test, y_test = data.load_data()\n",
    "        for version in prototype_version:\n",
    "            for num_prototype_per_class in prototypes_per_class:\n",
    "                # Recommended Settings\n",
    "                current_model = CNet2D(version=version, epochs=250, batch_size=128, learning_rate=0.0002, num_prototypes_per_class=num_prototype_per_class)\n",
    "                history = current_model.fit(X_train, y_train, 20, X_val, y_val)\n",
    "                # Add accuracy of model to history\n",
    "                evaluation = current_model.evaluate_model(X_test, y_test)\n",
    "                history[\"accuracy\"] = str(evaluation[\"accuracy\"])\n",
    "                # Checks if folder exists, if not creates it\n",
    "                if not os.path.exists(results_prototype_num2 + f\"/person{person}/\"):\n",
    "                    os.makedirs(results_prototype_num2 + f\"/person{person}/\")\n",
    "                # Save model\n",
    "                current_model.save_model_state(results_prototype_num2 + f\"/person{person}/model_{version}_Prototypes_{num_prototype_per_class}\")\n",
    "                # Save history\n",
    "                current_model.save_history_csv(history, results_prototype_num2 + f\"/person{person}/history_{version}_Prototypes_{num_prototype_per_class}\")"
   ]
  },
  {
   "cell_type": "markdown",
   "metadata": {},
   "source": [
    "## All hand orientations"
   ]
  },
  {
   "cell_type": "code",
   "execution_count": 5,
   "metadata": {},
   "outputs": [],
   "source": [
    "# Runs all models with all hand-orientation combinations on each subject where 2 files are used for training and 1 for testing\n",
    "def run_model_all_orientations():\n",
    "    for person in range(8, 12):\n",
    "        for orien in range(0, 3):\n",
    "            all_files = list_files(path_nearlab + f\"{person}\", \"csv\")\n",
    "            test_paths = [all_files[orien]]\n",
    "            train_paths = [x for x in all_files if x not in test_paths]\n",
    "            data = NearlabDatasetLoader(train_paths, test_paths)\n",
    "            X_train, y_train, X_val, y_val, X_test, y_test = data.load_data()\n",
    "\n",
    "            for version in versions:\n",
    "                # Recommended Settings\n",
    "                current_model = CNet2D(version=version, epochs=150, batch_size=128, learning_rate=0.0002)\n",
    "                history = current_model.fit(X_train, y_train, 10, X_val, y_val)\n",
    "                # Add accuracy of model to history\n",
    "                evaluation = current_model.evaluate_model(X_test, y_test)\n",
    "                history[\"accuracy\"] = str(evaluation[\"accuracy\"])\n",
    "                # Checks if folder exists, if not creates it\n",
    "                if not os.path.exists(results_basic + f\"/person{person}/\"):\n",
    "                    os.makedirs(results_basic + f\"/person{person}/\")\n",
    "                # Save model\n",
    "                current_model.save_model_state(results_basic + f\"/person{person}/model_{version}_Orientation_{orien}\")\n",
    "                # Save history\n",
    "                current_model.save_history_csv(history, results_basic + f\"/person{person}/history_{version}_Orientation_{orien}\")"
   ]
  },
  {
   "cell_type": "markdown",
   "metadata": {},
   "source": [
    "## Few-shot"
   ]
  },
  {
   "cell_type": "code",
   "execution_count": 6,
   "metadata": {},
   "outputs": [],
   "source": [
    "def run_k_shot_FSL(k_shots):\n",
    "    for person in range(6, 12):\n",
    "        train_files = list_files(path_nearlab + f\"{person}\", \"csv\")\n",
    "        test_files = list_files(path_nearlab_combo + f\"{person}\", \"csv\")\n",
    "        data = NearlabDatasetLoader(train_files, test_files)\n",
    "        X_train, y_train, X_val, y_val, X_test, y_test = data.split_few_shot_learning()\n",
    "        y_test -= 1\n",
    "        for version in prototype_version:\n",
    "            if os.path.exists(results_fsl_ninapro + f\"/person{person}/model_{version}\"):\n",
    "                model = CNet2D(version=version, epochs=5, batch_size=128, learning_rate=0.0002)\n",
    "                model.load_model_state(results_fsl + f\"/person{person}/model_{version}/model_state.pth\")\n",
    "                history = {\"accuracy\": []}\n",
    "            else:\n",
    "                model = CNet2D(version=version, epochs=5, batch_size=128, learning_rate=0.0002)\n",
    "                history = model.fit(X_train, y_train, 10, X_val, y_val)\n",
    "                if not os.path.exists(results_fsl + f\"/person{person}/\"):\n",
    "                    os.makedirs(results_fsl + f\"/person{person}/\")\n",
    "                model.save_model_state(results_fsl_ninapro + f\"/person{person}/model_{version}\")\n",
    "            model.save_model_state(results_fsl + f\"/person{person}/model_{version}\")\n",
    "            for k_shot in k_shots:\n",
    "                avg_acc = []\n",
    "                for _ in range(5):\n",
    "                    # Check if clone is doing what its supposed to do\n",
    "                    curr_model = model.clone()\n",
    "                    for c in torch.unique(y_test):\n",
    "                        X_random, y_random = take_n_shots(X_test, y_test, k_shot, c.item())\n",
    "                        curr_model.add_new_class(X_random)\n",
    "                        curr_model.optimize_new_prototypes(X_random, epochs=40, batch_size=16)\n",
    "                    eval = curr_model.evaluate_model(X_test, y_test)\n",
    "                    avg_acc.append(eval[\"accuracy\"])\n",
    "                history[\"accuracy\"] = str(avg_acc)\n",
    "                model.save_history_csv(history, results_fsl + f\"/person{person}/model_{version}_K_Shot_{k_shot}.csv\")\n",
    "                    "
   ]
  },
  {
   "cell_type": "markdown",
   "metadata": {},
   "source": [
    "# Datasets\n",
    "---"
   ]
  },
  {
   "cell_type": "code",
   "execution_count": 69,
   "metadata": {},
   "outputs": [],
   "source": [
    "person=4\n",
    "full_path = path_ninapro + \"/\" + f\"DB2_s{person}\"\n",
    "data = NinaProDatasetLoader(full_path, person, 2)\n",
    "X_train_nina, y_train_nina, X_val_nina, y_val_nina, X_test_nina, y_test_nina = data.load_few_shot_learning_data()"
   ]
  },
  {
   "cell_type": "code",
   "execution_count": 73,
   "metadata": {},
   "outputs": [],
   "source": [
    "version = \"GMLVQ\""
   ]
  },
  {
   "cell_type": "code",
   "execution_count": null,
   "metadata": {},
   "outputs": [],
   "source": [
    "current_model = CNet2D(version=version, num_classes=40, epochs=50, batch_size=128, learning_rate=0.0002, dataset_type=\"NinaPro\")\n",
    "history = current_model.fit(X_train_nina, y_train_nina, 10, X_val_nina, y_val_nina)\n",
    "\n",
    "if not os.path.exists(results_fsl_ninapro + f\"/person{person}/\"):\n",
    "    os.makedirs(results_fsl_ninapro + f\"/person{person}/\")\n",
    "current_model.save_model_state(results_fsl_ninapro + f\"/person{person}/model_{version}\")\n",
    "\n",
    "for k_shot in [1,2,5,10,20,40]:\n",
    "    avg_acc = []\n",
    "    for _ in range(5):\n",
    "        # Check if clone is doing what its supposed to do\n",
    "        curr_model = current_model.clone()\n",
    "        for c in torch.unique(y_test_nina):\n",
    "            X_random, y_random = take_n_shots(X_test_nina, y_test_nina, k_shot, c.item())\n",
    "            print(X_random.shape)\n",
    "            curr_model.add_new_class(X_random)\n",
    "            curr_model.optimize_new_prototypes(X_random, epochs=40)\n",
    "        eval = curr_model.evaluate_model(X_test_nina, y_test_nina)\n",
    "        avg_acc.append(eval[\"accuracy\"])\n",
    "    history[\"accuracy\"] = str(avg_acc)\n",
    "    current_model.save_history_csv(history, results_fsl_ninapro + f\"/person{person}/model_{version}_K_Shot_{k_shot}.csv\")"
   ]
  },
  {
   "cell_type": "markdown",
   "metadata": {},
   "source": [
    "# Ninapro\n",
    "---"
   ]
  },
  {
   "cell_type": "code",
   "execution_count": 7,
   "metadata": {},
   "outputs": [],
   "source": [
    "def run_standard_ninapro():\n",
    "    for person in range(8, 9):\n",
    "        full_path = path_ninapro + \"/\" + f\"DB2_s{person}\"\n",
    "        data = NinaProDatasetLoader(full_path, person, 2)\n",
    "        X_train, y_train, X_val, y_val, X_test, y_test = data.load_data()\n",
    "        number_classes = len(torch.unique(y_train))\n",
    "        versions = [\"GMLVQ\"]\n",
    "        for version in versions:\n",
    "            # Recommended Settings\n",
    "            current_model = CNet2D(version=version, num_classes=number_classes, epochs=200, batch_size=128, learning_rate=0.0002, dataset_type=\"NinaPro\")\n",
    "            history = current_model.fit(X_train, y_train, 20, X_val, y_val)\n",
    "            # Add accuracy of model to history\n",
    "            evaluation = current_model.evaluate_model(X_test, y_test)\n",
    "            history[\"accuracy\"] = str(evaluation[\"accuracy\"])\n",
    "            # Checks if folder exists, if not creates it\n",
    "            if not os.path.exists(results_ninapro + f\"/person{person}/\"):\n",
    "                os.makedirs(results_ninapro + f\"/person{person}/\")\n",
    "            # Save model\n",
    "            current_model.save_model_state(results_ninapro + f\"/person{person}/model_{version}\")\n",
    "            # Save history\n",
    "            current_model.save_history_csv(history, results_ninapro + f\"/person{person}/history_{version}\")"
   ]
  },
  {
   "cell_type": "code",
   "execution_count": 33,
   "metadata": {},
   "outputs": [],
   "source": [
    "def run_k_shot_FSL_ninapro(k_shots):\n",
    "    for person in range(1, 12):\n",
    "        full_path = path_ninapro + \"/\" + f\"DB2_s{person}\"\n",
    "        data = NinaProDatasetLoader(full_path, person, 2)\n",
    "        X_train_nina, y_train_nina, X_val_nina, y_val_nina, X_test_nina, y_test_nina = data.load_few_shot_learning_data()\n",
    "        \"\"\"\n",
    "        if os.path.exists(results_fsl_ninapro + f\"/person{person}/model_{version}\"):\n",
    "            model = CNet2D(version=version, num_classes=number_classes, epochs=5, batch_size=128, learning_rate=0.0002, dataset_type=\"NinaPro\")\n",
    "            model.load_model_state(results_fsl_ninapro + f\"/person{person}/model_{version}\")\n",
    "            history = {\"accuracy\": []}\n",
    "        else:\n",
    "        \"\"\"\n",
    "        model = CNet2D(version=\"GLVQ\", num_classes=40, epochs=5, batch_size=128, learning_rate=0.0002, dataset_type=\"NinaPro\")\n",
    "        history = model.fit(X_train_nina, y_train_nina, 20, X_val_nina, y_val_nina)\n",
    "        if not os.path.exists(results_fsl_ninapro + f\"/person{person}/\"):\n",
    "            os.makedirs(results_fsl_ninapro + f\"/person{person}/\")\n",
    "        model.save_model_state(results_fsl_ninapro + f\"/person{person}/model_GLVQ\")\n",
    "        \n",
    "        for k_shot in k_shots:\n",
    "            avg_acc = []\n",
    "            for _ in range(5):\n",
    "                # Check if clone is doing what its supposed to do\n",
    "                curr_model = model.clone()\n",
    "                for c in torch.unique(y_test_nina):\n",
    "                    X_random, y_random = take_n_shots(X_test_nina, y_test_nina, k_shot, c.item())\n",
    "                    curr_model.add_new_class(X_random)\n",
    "                    curr_model.optimize_new_prototypes(X_random, epochs=40)\n",
    "                eval = curr_model.evaluate_model(X_test_nina, y_test_nina)\n",
    "                avg_acc.append(eval[\"accuracy\"])\n",
    "            history[\"accuracy\"] = str(avg_acc)\n",
    "            model.save_history_csv(history, results_fsl_ninapro + f\"/person{person}/model_GLVQ_K_Shot_{k_shot}.csv\")"
   ]
  }
 ],
 "metadata": {
  "kernelspec": {
   "display_name": "glvq",
   "language": "python",
   "name": "python3"
  },
  "language_info": {
   "codemirror_mode": {
    "name": "ipython",
    "version": 3
   },
   "file_extension": ".py",
   "mimetype": "text/x-python",
   "name": "python",
   "nbconvert_exporter": "python",
   "pygments_lexer": "ipython3",
   "version": "3.10.16"
  }
 },
 "nbformat": 4,
 "nbformat_minor": 2
}
